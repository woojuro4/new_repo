{
 "cells": [
  {
   "cell_type": "markdown",
   "metadata": {},
   "source": [
    "#### 2020-2 YBIGTA 교육세션\n",
    "# ML 심화 과제"
   ]
  },
  {
   "cell_type": "markdown",
   "metadata": {},
   "source": [
    "타이타닉 데이터를 활용한 과제입니다. 각 단계에서 추가적으로 필요한 라이브러리가 있다면 자유롭게 불러와서 사용해주세요.\n",
    "\n",
    "과제할 때 꿀팁!\n",
    "\n",
    "1. 이전 세션들에서의 자료를 찾아본다.\n",
    "2. 질문방에 질문한다.\n",
    "3. 구글링한다.\n",
    "4. 복붙하지 않고 직접 타이핑해서 코드를 완성한다."
   ]
  },
  {
   "cell_type": "code",
   "execution_count": 1,
   "metadata": {},
   "outputs": [],
   "source": [
    "import pandas as pd\n",
    "import numpy as np\n",
    "import matplotlib.pyplot as plt\n",
    "%matplotlib inline\n",
    "import seaborn as sns\n",
    "pd.set_option('display.max_columns', None)\n",
    "pd.set_option('display.max_rows', None)"
   ]
  },
  {
   "cell_type": "code",
   "execution_count": 2,
   "metadata": {},
   "outputs": [],
   "source": [
    "# csv 파일 열기\n",
    "df = pd.read_csv('titanic2.csv')"
   ]
  },
  {
   "cell_type": "code",
   "execution_count": 3,
   "metadata": {},
   "outputs": [
    {
     "data": {
      "text/html": [
       "<div>\n",
       "<style scoped>\n",
       "    .dataframe tbody tr th:only-of-type {\n",
       "        vertical-align: middle;\n",
       "    }\n",
       "\n",
       "    .dataframe tbody tr th {\n",
       "        vertical-align: top;\n",
       "    }\n",
       "\n",
       "    .dataframe thead th {\n",
       "        text-align: right;\n",
       "    }\n",
       "</style>\n",
       "<table border=\"1\" class=\"dataframe\">\n",
       "  <thead>\n",
       "    <tr style=\"text-align: right;\">\n",
       "      <th></th>\n",
       "      <th>PassengerId</th>\n",
       "      <th>Survived</th>\n",
       "      <th>Pclass</th>\n",
       "      <th>Name</th>\n",
       "      <th>Sex</th>\n",
       "      <th>Age</th>\n",
       "      <th>SibSp</th>\n",
       "      <th>Parch</th>\n",
       "      <th>Ticket</th>\n",
       "      <th>Fare</th>\n",
       "      <th>Embarked</th>\n",
       "    </tr>\n",
       "  </thead>\n",
       "  <tbody>\n",
       "    <tr>\n",
       "      <th>0</th>\n",
       "      <td>1</td>\n",
       "      <td>0</td>\n",
       "      <td>3</td>\n",
       "      <td>Braund, Mr. Owen Harris</td>\n",
       "      <td>0</td>\n",
       "      <td>22.0</td>\n",
       "      <td>1</td>\n",
       "      <td>0</td>\n",
       "      <td>A/5 21171</td>\n",
       "      <td>7.2500</td>\n",
       "      <td>0.0</td>\n",
       "    </tr>\n",
       "    <tr>\n",
       "      <th>1</th>\n",
       "      <td>2</td>\n",
       "      <td>1</td>\n",
       "      <td>1</td>\n",
       "      <td>Cumings, Mrs. John Bradley (Florence Briggs Th...</td>\n",
       "      <td>1</td>\n",
       "      <td>38.0</td>\n",
       "      <td>1</td>\n",
       "      <td>0</td>\n",
       "      <td>PC 17599</td>\n",
       "      <td>71.2833</td>\n",
       "      <td>1.0</td>\n",
       "    </tr>\n",
       "    <tr>\n",
       "      <th>2</th>\n",
       "      <td>3</td>\n",
       "      <td>1</td>\n",
       "      <td>3</td>\n",
       "      <td>Heikkinen, Miss. Laina</td>\n",
       "      <td>1</td>\n",
       "      <td>26.0</td>\n",
       "      <td>0</td>\n",
       "      <td>0</td>\n",
       "      <td>STON/O2. 3101282</td>\n",
       "      <td>7.9250</td>\n",
       "      <td>0.0</td>\n",
       "    </tr>\n",
       "    <tr>\n",
       "      <th>3</th>\n",
       "      <td>4</td>\n",
       "      <td>1</td>\n",
       "      <td>1</td>\n",
       "      <td>Futrelle, Mrs. Jacques Heath (Lily May Peel)</td>\n",
       "      <td>1</td>\n",
       "      <td>35.0</td>\n",
       "      <td>1</td>\n",
       "      <td>0</td>\n",
       "      <td>113803</td>\n",
       "      <td>53.1000</td>\n",
       "      <td>0.0</td>\n",
       "    </tr>\n",
       "    <tr>\n",
       "      <th>4</th>\n",
       "      <td>5</td>\n",
       "      <td>0</td>\n",
       "      <td>3</td>\n",
       "      <td>Allen, Mr. William Henry</td>\n",
       "      <td>0</td>\n",
       "      <td>35.0</td>\n",
       "      <td>0</td>\n",
       "      <td>0</td>\n",
       "      <td>373450</td>\n",
       "      <td>8.0500</td>\n",
       "      <td>0.0</td>\n",
       "    </tr>\n",
       "  </tbody>\n",
       "</table>\n",
       "</div>"
      ],
      "text/plain": [
       "   PassengerId  Survived  Pclass  \\\n",
       "0            1         0       3   \n",
       "1            2         1       1   \n",
       "2            3         1       3   \n",
       "3            4         1       1   \n",
       "4            5         0       3   \n",
       "\n",
       "                                                Name  Sex   Age  SibSp  Parch  \\\n",
       "0                            Braund, Mr. Owen Harris    0  22.0      1      0   \n",
       "1  Cumings, Mrs. John Bradley (Florence Briggs Th...    1  38.0      1      0   \n",
       "2                             Heikkinen, Miss. Laina    1  26.0      0      0   \n",
       "3       Futrelle, Mrs. Jacques Heath (Lily May Peel)    1  35.0      1      0   \n",
       "4                           Allen, Mr. William Henry    0  35.0      0      0   \n",
       "\n",
       "             Ticket     Fare  Embarked  \n",
       "0         A/5 21171   7.2500       0.0  \n",
       "1          PC 17599  71.2833       1.0  \n",
       "2  STON/O2. 3101282   7.9250       0.0  \n",
       "3            113803  53.1000       0.0  \n",
       "4            373450   8.0500       0.0  "
      ]
     },
     "execution_count": 3,
     "metadata": {},
     "output_type": "execute_result"
    }
   ],
   "source": [
    "df.head()"
   ]
  },
  {
   "cell_type": "code",
   "execution_count": 4,
   "metadata": {},
   "outputs": [],
   "source": [
    "# Parch는 함께 탑승한 부모 혹은 자녀의 수, SibSp는 함께 탑승한 형제나 배우자의 수입니다.\n",
    "# 이 둘을 합쳐서 'Family' column을 만들어주세요.\n",
    "df['Family'] = df['Parch'] + df['SibSp']"
   ]
  },
  {
   "cell_type": "code",
   "execution_count": 5,
   "metadata": {},
   "outputs": [
    {
     "data": {
      "text/html": [
       "<div>\n",
       "<style scoped>\n",
       "    .dataframe tbody tr th:only-of-type {\n",
       "        vertical-align: middle;\n",
       "    }\n",
       "\n",
       "    .dataframe tbody tr th {\n",
       "        vertical-align: top;\n",
       "    }\n",
       "\n",
       "    .dataframe thead th {\n",
       "        text-align: right;\n",
       "    }\n",
       "</style>\n",
       "<table border=\"1\" class=\"dataframe\">\n",
       "  <thead>\n",
       "    <tr style=\"text-align: right;\">\n",
       "      <th></th>\n",
       "      <th>Sex</th>\n",
       "      <th>Age</th>\n",
       "      <th>Family</th>\n",
       "      <th>Fare</th>\n",
       "      <th>Embarked</th>\n",
       "      <th>Survived</th>\n",
       "    </tr>\n",
       "  </thead>\n",
       "  <tbody>\n",
       "    <tr>\n",
       "      <th>0</th>\n",
       "      <td>0</td>\n",
       "      <td>22.0</td>\n",
       "      <td>1</td>\n",
       "      <td>7.2500</td>\n",
       "      <td>0.0</td>\n",
       "      <td>0</td>\n",
       "    </tr>\n",
       "    <tr>\n",
       "      <th>1</th>\n",
       "      <td>1</td>\n",
       "      <td>38.0</td>\n",
       "      <td>1</td>\n",
       "      <td>71.2833</td>\n",
       "      <td>1.0</td>\n",
       "      <td>1</td>\n",
       "    </tr>\n",
       "    <tr>\n",
       "      <th>2</th>\n",
       "      <td>1</td>\n",
       "      <td>26.0</td>\n",
       "      <td>0</td>\n",
       "      <td>7.9250</td>\n",
       "      <td>0.0</td>\n",
       "      <td>1</td>\n",
       "    </tr>\n",
       "    <tr>\n",
       "      <th>3</th>\n",
       "      <td>1</td>\n",
       "      <td>35.0</td>\n",
       "      <td>1</td>\n",
       "      <td>53.1000</td>\n",
       "      <td>0.0</td>\n",
       "      <td>1</td>\n",
       "    </tr>\n",
       "    <tr>\n",
       "      <th>4</th>\n",
       "      <td>0</td>\n",
       "      <td>35.0</td>\n",
       "      <td>0</td>\n",
       "      <td>8.0500</td>\n",
       "      <td>0.0</td>\n",
       "      <td>0</td>\n",
       "    </tr>\n",
       "  </tbody>\n",
       "</table>\n",
       "</div>"
      ],
      "text/plain": [
       "   Sex   Age  Family     Fare  Embarked  Survived\n",
       "0    0  22.0       1   7.2500       0.0         0\n",
       "1    1  38.0       1  71.2833       1.0         1\n",
       "2    1  26.0       0   7.9250       0.0         1\n",
       "3    1  35.0       1  53.1000       0.0         1\n",
       "4    0  35.0       0   8.0500       0.0         0"
      ]
     },
     "execution_count": 5,
     "metadata": {},
     "output_type": "execute_result"
    }
   ],
   "source": [
    "# 필요한 것들만 추리겠습니다. 'Sex', 'Age', 'Family', 'Fare', 'Embarked', 'Survived' 순으로\n",
    "# 데이터 프레임을 만들어주세요.\n",
    "\n",
    "df = df[['Sex', 'Age', 'Family', 'Fare', 'Embarked', 'Survived']]\n",
    "df.head()"
   ]
  },
  {
   "cell_type": "code",
   "execution_count": 6,
   "metadata": {},
   "outputs": [],
   "source": [
    "# 데이터 프레임을 독립변수 X, 종속변수 y로 나눠주세요.\n",
    "# 종속변수 y는 Survived, X는 나머지 칼럼들\n",
    "\n",
    "X = df.drop(columns=['Survived'], inplace=False, axis=1)\n",
    "y = df['Survived']"
   ]
  },
  {
   "cell_type": "code",
   "execution_count": 7,
   "metadata": {},
   "outputs": [],
   "source": [
    "# train과 test를 70:30으로 나눠주는 패키지를 불러온 뒤 X와 y를 각각 나눠주세요.\n",
    "\n",
    "from sklearn.model_selection import train_test_split\n",
    "X_train, X_test, y_train, y_test = train_test_split(X, y, test_size=0.2, random_state=42)"
   ]
  },
  {
   "cell_type": "code",
   "execution_count": 8,
   "metadata": {},
   "outputs": [
    {
     "name": "stdout",
     "output_type": "stream",
     "text": [
      "(712, 5)\n",
      "(179, 5)\n"
     ]
    }
   ],
   "source": [
    "# X_train, X_test shape 확인\n",
    "\n",
    "print(X_train.shape)\n",
    "print(X_test.shape)"
   ]
  },
  {
   "cell_type": "markdown",
   "metadata": {},
   "source": [
    "### 랜덤 포레스트"
   ]
  },
  {
   "cell_type": "markdown",
   "metadata": {},
   "source": [
    "BaggingClassifier와 DecisionTreeClassifier로 랜덤포레스트를 직접 만들어보세요."
   ]
  },
  {
   "cell_type": "code",
   "execution_count": 9,
   "metadata": {},
   "outputs": [
    {
     "name": "stdout",
     "output_type": "stream",
     "text": [
      "training set accuracy: 0.7921348314606742\n",
      "test set accuracy: 0.7821229050279329\n"
     ]
    }
   ],
   "source": [
    "# 200개 트리를 만들고 각 트리마다 15개의 샘플을 넣습니다. 각 트리의 노드 개수는 31개로 하고, 모델명은 bagging이라고 합시다.\n",
    "# 배깅이라는 걸 표시해주세요. cpu는 사용할 수 있는 모든 것을 씁니다.\n",
    "\n",
    "from sklearn.ensemble import BaggingClassifier \n",
    "from sklearn.tree import DecisionTreeClassifier\n",
    "\n",
    "bagging = BaggingClassifier(DecisionTreeClassifier(max_leaf_nodes = 31, random_state=42),\n",
    "                            n_estimators = 200, max_samples = 15, bootstrap = True, n_jobs = -1\n",
    "                           )\n",
    "\n",
    "bagging.fit(X_train, y_train)\n",
    "\n",
    "# train의 score와 test의 score를 출력합니다.\n",
    "\n",
    "print('training set accuracy:', bagging.score(X_train, y_train))\n",
    "print('test set accuracy:', bagging.score(X_test, y_test))"
   ]
  },
  {
   "cell_type": "code",
   "execution_count": 10,
   "metadata": {},
   "outputs": [
    {
     "name": "stdout",
     "output_type": "stream",
     "text": [
      "training set accuracy: 0.8441011235955056\n",
      "test set accuracy: 0.8044692737430168\n"
     ]
    }
   ],
   "source": [
    "# 랜덤포레스트 패키지를 불러와 100개 트리를 만들고 노드 개수는 15개로 설정한 모델(모델명은 forest로 하겠습니다.)을 만듭니다.\n",
    "\n",
    "from sklearn.ensemble import RandomForestClassifier\n",
    "\n",
    "forest = RandomForestClassifier(n_estimators = 100, max_leaf_nodes = 15, n_jobs=-1)\n",
    "forest.fit(X_train, y_train)\n",
    "\n",
    "# train의 score와 test의 score를 출력합니다.\n",
    "\n",
    "print('training set accuracy:', forest.score(X_train, y_train))\n",
    "print('test set accuracy:', forest.score(X_test, y_test))"
   ]
  },
  {
   "cell_type": "code",
   "execution_count": 11,
   "metadata": {},
   "outputs": [
    {
     "data": {
      "text/plain": [
       "Index(['Sex', 'Age', 'Family', 'Fare', 'Embarked'], dtype='object')"
      ]
     },
     "execution_count": 11,
     "metadata": {},
     "output_type": "execute_result"
    }
   ],
   "source": [
    "# 원본 데이터프레임 df의 features는 다음과 같습니다.\n",
    "\n",
    "df.columns[:-1]"
   ]
  },
  {
   "cell_type": "code",
   "execution_count": 15,
   "metadata": {},
   "outputs": [
    {
     "name": "stdout",
     "output_type": "stream",
     "text": [
      "Sex  --->  0.520\n",
      "Age  --->  0.107\n",
      "Family  --->  0.122\n",
      "Fare  --->  0.230\n",
      "Embarked  --->  0.021\n"
     ]
    }
   ],
   "source": [
    "# 위 정보를 이용해 forest 모델의 feature importance와 각 중요도가 가리키는 feature를 zip해서 출력해보세요.\n",
    "\n",
    "for name, score in zip(df.columns[:-1], forest.feature_importances_):\n",
    "    print(f'{name}  --->  {score:.3f}')"
   ]
  },
  {
   "cell_type": "markdown",
   "metadata": {},
   "source": [
    "### 부스팅"
   ]
  },
  {
   "cell_type": "markdown",
   "metadata": {},
   "source": [
    "교육세션에서 배운 모델이나 추가적으로 알고 있는 부스팅 모델 중 마음에 드는 2개를 골라서 주어진 데이터셋에 대해 각각 돌려주세요.\n",
    "- 돌린 다음 각 모델의 training, test 성능을 확인해봅니다.\n",
    "- 더 높은 성능을 낼 수 있는 파라미터를 찾아보는 시도를 해보아도 좋습니다!"
   ]
  },
  {
   "cell_type": "code",
   "execution_count": 20,
   "metadata": {},
   "outputs": [
    {
     "data": {
      "text/plain": [
       "0.8100558659217877"
      ]
     },
     "execution_count": 20,
     "metadata": {},
     "output_type": "execute_result"
    }
   ],
   "source": [
    "# Model 1 : catboost\n",
    "from catboost import CatBoostClassifier\n",
    "\n",
    "cbst_clf = CatBoostClassifier()\n",
    "cbst_clf.fit(X_train, y_train, verbose=False)\n",
    "cbst_clf.score(X_test, y_test)"
   ]
  },
  {
   "cell_type": "code",
   "execution_count": 22,
   "metadata": {},
   "outputs": [
    {
     "data": {
      "text/plain": [
       "0.8491620111731844"
      ]
     },
     "execution_count": 22,
     "metadata": {},
     "output_type": "execute_result"
    }
   ],
   "source": [
    "# Model 2 : lgbm\n",
    "from lightgbm import LGBMClassifier\n",
    "lgbm_clf = LGBMClassifier()\n",
    "lgbm_clf.fit(X_train, y_train)\n",
    "lgbm_clf.score(X_test, y_test)"
   ]
  },
  {
   "cell_type": "markdown",
   "metadata": {},
   "source": [
    "아무 parameter tuning 없이 진행하였는데도 상당히 좋은 결과를 보여준다!!"
   ]
  },
  {
   "cell_type": "markdown",
   "metadata": {},
   "source": [
    "lgbm이 다른 앙상블과 다른 점에 대해 적어주세요."
   ]
  },
  {
   "cell_type": "markdown",
   "metadata": {},
   "source": [
    "LGBM은 다른 모델과는 다르게, leaf-wise 방식을 채택하였다. <br>\n",
    "트리를 균형 잡히게(level wise) 학습하는 다른 방식은 학습하는데 시간이 많이 걸리지만, LGBM은 트리가 균형 잡히지 않고 학습하므로 시간이 적게 걸린다. <br>\n",
    "level wise 방식은 결국 균형 잡히게 발달하므로 시간이 오래 걸리는 대신 과적합을 대응할 수 있지만, LGBM은 깊이가 길어질 수 있어 과적합에 취약하다는 단점이 있다."
   ]
  },
  {
   "cell_type": "markdown",
   "metadata": {},
   "source": [
    "### 스태킹"
   ]
  },
  {
   "cell_type": "markdown",
   "metadata": {},
   "source": [
    "스태킹이 다른 앙상블과 다른 점에 대해 적어주세요."
   ]
  },
  {
   "cell_type": "markdown",
   "metadata": {},
   "source": [
    "스태킹은 특히 보깅과 배깅을 이용하는 다른 앙상블 기법과 차이점을 보인다. <br>\n",
    "보깅과 배깅은 결국 여러 학습기에서 나온 결과를 voting이라는 과정을 통해 최종 결과를 도출한다. <br>\n",
    "이때 여러 결과 중 평균값이나 중간값, 최빈값 등을 사용하는 방식이 있다. <br><br>\n",
    "반면에 스태킹은 여러 학습기에서 나온 결과를 다시 input data 삼아 새로운 학습을 하는 blender 모델을 학습한다. <br>\n",
    "이 blender 모델이 학습하여 나온 결과를 최종 결과로 사용하는 방식이 바로 스태킹 방식이다."
   ]
  }
 ],
 "metadata": {
  "kernelspec": {
   "display_name": "Python 3",
   "language": "python",
   "name": "python3"
  },
  "language_info": {
   "codemirror_mode": {
    "name": "ipython",
    "version": 3
   },
   "file_extension": ".py",
   "mimetype": "text/x-python",
   "name": "python",
   "nbconvert_exporter": "python",
   "pygments_lexer": "ipython3",
   "version": "3.7.6"
  }
 },
 "nbformat": 4,
 "nbformat_minor": 4
}
